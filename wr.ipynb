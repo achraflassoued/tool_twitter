{
  "nbformat": 4,
  "nbformat_minor": 0,
  "metadata": {
    "colab": {
      "name": "weighted_reservoir_all_pairs_k200_1.ipynb",
      "provenance": [],
      "collapsed_sections": []
    },
    "kernelspec": {
      "name": "python3",
      "display_name": "Python 3"
    }
  },
  "cells": [
    {
      "cell_type": "code",
      "metadata": {
        "id": "QCSJfNxy2LQq",
        "colab_type": "code",
        "colab": {}
      },
      "source": [
        "import numpy as np # linear algebra\n",
        "import pandas as pd # data processing, CSV file I/O (e.g. pd.read_csv)\n",
        "import seaborn as sns\n",
        "import matplotlib.pyplot as plt\n",
        "from nltk.stem import WordNetLemmatizer\n",
        "from sklearn.feature_extraction.text import TfidfVectorizer, CountVectorizer\n",
        "from collections import Counter\n",
        "import nltk\n",
        "from nltk.corpus import stopwords\n",
        "from nltk.tokenize import word_tokenize\n",
        "from nltk.collocations import *\n",
        "try:\n",
        "    stopwords = set(stopwords.words('english'))\n",
        "except LookupError:\n",
        "    import nltk\n",
        "    nltk.download('stopwords')\n",
        "    stopwords = set(stopwords.words('english'))\n",
        "#stopwords\n",
        "import re, nltk, spacy, gensim\n",
        "from google.colab import drive"
      ],
      "execution_count": 0,
      "outputs": []
    },
    {
      "cell_type": "code",
      "metadata": {
        "id": "8Mwyav1m2n-T",
        "colab_type": "code",
        "colab": {}
      },
      "source": [
        "from google.colab import auth\n",
        "auth.authenticate_user()\n",
        "\n",
        "from pydrive.drive import GoogleDrive\n",
        "from pydrive.auth import GoogleAuth\n",
        "from oauth2client.client import GoogleCredentials\n",
        "gauth = GoogleAuth()\n",
        "gauth.credentials = GoogleCredentials.get_application_default()\n",
        "drive = GoogleDrive(gauth)\n",
        "\n",
        "myfile = drive.CreateFile({'id': '1IW5gZMhjAt6j2lNapj2w3XGqCn6k89cw'})\n",
        "#df=pd.read_csv('gdrive/My Drive/ColabNotebooks/sample_data/googleplaystore_user_reviews.csv')\n",
        "myfile.GetContentFile('snli_1.0_test.csv')"
      ],
      "execution_count": 0,
      "outputs": []
    },
    {
      "cell_type": "code",
      "metadata": {
        "id": "UiBU8oqa2yDL",
        "colab_type": "code",
        "outputId": "ba5559b1-63a2-4f7c-87b8-42b6b939cb5d",
        "colab": {
          "base_uri": "https://localhost:8080/",
          "height": 501
        }
      },
      "source": [
        "import pandas as pd\n",
        "#frm = pd.read_csv('googleplaystore_user_reviews.csv', header=None)\n",
        "df = pd.read_csv('snli_1.0_test.csv')\n",
        "df = df.dropna(subset=['sentence1'])\n",
        "df.head()"
      ],
      "execution_count": 0,
      "outputs": [
        {
          "output_type": "execute_result",
          "data": {
            "text/html": [
              "<div>\n",
              "<style scoped>\n",
              "    .dataframe tbody tr th:only-of-type {\n",
              "        vertical-align: middle;\n",
              "    }\n",
              "\n",
              "    .dataframe tbody tr th {\n",
              "        vertical-align: top;\n",
              "    }\n",
              "\n",
              "    .dataframe thead th {\n",
              "        text-align: right;\n",
              "    }\n",
              "</style>\n",
              "<table border=\"1\" class=\"dataframe\">\n",
              "  <thead>\n",
              "    <tr style=\"text-align: right;\">\n",
              "      <th></th>\n",
              "      <th>gold_label</th>\n",
              "      <th>sentence1_binary_parse</th>\n",
              "      <th>sentence2_binary_parse</th>\n",
              "      <th>sentence1_parse</th>\n",
              "      <th>sentence2_parse</th>\n",
              "      <th>sentence1</th>\n",
              "      <th>sentence2</th>\n",
              "      <th>captionID</th>\n",
              "      <th>pairID</th>\n",
              "      <th>label1</th>\n",
              "      <th>label2</th>\n",
              "      <th>label3</th>\n",
              "      <th>label4</th>\n",
              "      <th>label5</th>\n",
              "    </tr>\n",
              "  </thead>\n",
              "  <tbody>\n",
              "    <tr>\n",
              "      <th>0</th>\n",
              "      <td>neutral</td>\n",
              "      <td>( ( This ( church choir ) ) ( ( ( sings ( to (...</td>\n",
              "      <td>( ( The church ) ( ( has ( cracks ( in ( the c...</td>\n",
              "      <td>(ROOT (S (NP (DT This) (NN church) (NN choir))...</td>\n",
              "      <td>(ROOT (S (NP (DT The) (NN church)) (VP (VBZ ha...</td>\n",
              "      <td>This church choir sings to the masses as they ...</td>\n",
              "      <td>The church has cracks in the ceiling.</td>\n",
              "      <td>2677109430.jpg#1</td>\n",
              "      <td>2677109430.jpg#1r1n</td>\n",
              "      <td>neutral</td>\n",
              "      <td>contradiction</td>\n",
              "      <td>contradiction</td>\n",
              "      <td>neutral</td>\n",
              "      <td>neutral</td>\n",
              "    </tr>\n",
              "    <tr>\n",
              "      <th>1</th>\n",
              "      <td>entailment</td>\n",
              "      <td>( ( This ( church choir ) ) ( ( ( sings ( to (...</td>\n",
              "      <td>( ( The church ) ( ( is ( filled ( with song )...</td>\n",
              "      <td>(ROOT (S (NP (DT This) (NN church) (NN choir))...</td>\n",
              "      <td>(ROOT (S (NP (DT The) (NN church)) (VP (VBZ is...</td>\n",
              "      <td>This church choir sings to the masses as they ...</td>\n",
              "      <td>The church is filled with song.</td>\n",
              "      <td>2677109430.jpg#1</td>\n",
              "      <td>2677109430.jpg#1r1e</td>\n",
              "      <td>entailment</td>\n",
              "      <td>entailment</td>\n",
              "      <td>entailment</td>\n",
              "      <td>neutral</td>\n",
              "      <td>entailment</td>\n",
              "    </tr>\n",
              "    <tr>\n",
              "      <th>2</th>\n",
              "      <td>contradiction</td>\n",
              "      <td>( ( This ( church choir ) ) ( ( ( sings ( to (...</td>\n",
              "      <td>( ( ( A choir ) ( singing ( at ( a ( baseball ...</td>\n",
              "      <td>(ROOT (S (NP (DT This) (NN church) (NN choir))...</td>\n",
              "      <td>(ROOT (NP (NP (DT A) (NN choir)) (VP (VBG sing...</td>\n",
              "      <td>This church choir sings to the masses as they ...</td>\n",
              "      <td>A choir singing at a baseball game.</td>\n",
              "      <td>2677109430.jpg#1</td>\n",
              "      <td>2677109430.jpg#1r1c</td>\n",
              "      <td>contradiction</td>\n",
              "      <td>contradiction</td>\n",
              "      <td>contradiction</td>\n",
              "      <td>contradiction</td>\n",
              "      <td>contradiction</td>\n",
              "    </tr>\n",
              "    <tr>\n",
              "      <th>3</th>\n",
              "      <td>neutral</td>\n",
              "      <td>( ( ( A woman ) ( with ( ( ( ( ( a ( green hea...</td>\n",
              "      <td>( ( The woman ) ( ( is young ) . ) )</td>\n",
              "      <td>(ROOT (NP (NP (DT A) (NN woman)) (PP (IN with)...</td>\n",
              "      <td>(ROOT (S (NP (DT The) (NN woman)) (VP (VBZ is)...</td>\n",
              "      <td>A woman with a green headscarf, blue shirt and...</td>\n",
              "      <td>The woman is young.</td>\n",
              "      <td>6160193920.jpg#4</td>\n",
              "      <td>6160193920.jpg#4r1n</td>\n",
              "      <td>neutral</td>\n",
              "      <td>neutral</td>\n",
              "      <td>neutral</td>\n",
              "      <td>neutral</td>\n",
              "      <td>neutral</td>\n",
              "    </tr>\n",
              "    <tr>\n",
              "      <th>4</th>\n",
              "      <td>entailment</td>\n",
              "      <td>( ( ( A woman ) ( with ( ( ( ( ( a ( green hea...</td>\n",
              "      <td>( ( The woman ) ( ( is ( very happy ) ) . ) )</td>\n",
              "      <td>(ROOT (NP (NP (DT A) (NN woman)) (PP (IN with)...</td>\n",
              "      <td>(ROOT (S (NP (DT The) (NN woman)) (VP (VBZ is)...</td>\n",
              "      <td>A woman with a green headscarf, blue shirt and...</td>\n",
              "      <td>The woman is very happy.</td>\n",
              "      <td>6160193920.jpg#4</td>\n",
              "      <td>6160193920.jpg#4r1e</td>\n",
              "      <td>entailment</td>\n",
              "      <td>entailment</td>\n",
              "      <td>contradiction</td>\n",
              "      <td>entailment</td>\n",
              "      <td>neutral</td>\n",
              "    </tr>\n",
              "  </tbody>\n",
              "</table>\n",
              "</div>"
            ],
            "text/plain": [
              "      gold_label  ...         label5\n",
              "0        neutral  ...        neutral\n",
              "1     entailment  ...     entailment\n",
              "2  contradiction  ...  contradiction\n",
              "3        neutral  ...        neutral\n",
              "4     entailment  ...        neutral\n",
              "\n",
              "[5 rows x 14 columns]"
            ]
          },
          "metadata": {
            "tags": []
          },
          "execution_count": 18
        }
      ]
    },
    {
      "cell_type": "code",
      "metadata": {
        "id": "K3E7vokJ20ka",
        "colab_type": "code",
        "colab": {}
      },
      "source": [
        "# Convert to list\n",
        "data = df.sentence1.values.tolist()\n",
        "# Remove \n",
        "data = [re.sub(r'\\S*@\\S*\\s?', '', sent) for sent in data]\n",
        "# Remove new line characters\n",
        "data = [re.sub(r'\\s+', ' ', sent) for sent in data]\n",
        "# Remove distracting single quotes\n",
        "data = [re.sub(r\"\\'\", \"\", sent) for sent in data]\n",
        "# Remove https \n",
        "data = [re.sub(r'http\\S+', '', sent) for sent in data]"
      ],
      "execution_count": 0,
      "outputs": []
    },
    {
      "cell_type": "code",
      "metadata": {
        "id": "o3m5HbUO24OS",
        "colab_type": "code",
        "outputId": "1147f55c-03cd-45b0-bbaa-e5f35efa408b",
        "colab": {
          "base_uri": "https://localhost:8080/",
          "height": 35
        }
      },
      "source": [
        "def sent_to_words(sentences):\n",
        "    for sentence in sentences:\n",
        "        yield(gensim.utils.simple_preprocess(str(sentence), deacc=True))  # deacc=True removes punctuations\n",
        "data_words = list(sent_to_words(data))\n",
        "print(data_words[:1])"
      ],
      "execution_count": 0,
      "outputs": [
        {
          "output_type": "stream",
          "text": [
            "[['this', 'church', 'choir', 'sings', 'to', 'the', 'masses', 'as', 'they', 'sing', 'joyous', 'songs', 'from', 'the', 'book', 'at', 'church']]\n"
          ],
          "name": "stdout"
        }
      ]
    },
    {
      "cell_type": "code",
      "metadata": {
        "id": "Gy8sPRmI2_7C",
        "colab_type": "code",
        "colab": {}
      },
      "source": [
        "def lemmatization(texts, allowed_postags=['NOUN', 'ADJ', 'VERB', 'ADV']): #'NOUN', 'ADJ', 'VERB', 'ADV'\n",
        "    texts_out = []\n",
        "    for sent in texts:\n",
        "        doc = nlp(\" \".join(sent)) \n",
        "        texts_out.append(\" \".join([token.lemma_ if token.lemma_ not in ['-PRON-'] else '' for token in doc if token.pos_ in allowed_postags]))\n",
        "    return texts_out"
      ],
      "execution_count": 0,
      "outputs": []
    },
    {
      "cell_type": "code",
      "metadata": {
        "id": "UiakIvn83Dr6",
        "colab_type": "code",
        "outputId": "f871b550-bf6b-4a52-c522-c3bc90328361",
        "colab": {
          "base_uri": "https://localhost:8080/",
          "height": 35
        }
      },
      "source": [
        "# Initialize spacy ‘en’ model, keeping only tagger component (for efficiency)\n",
        "# Run in terminal: python -m spacy download en\n",
        "nlp = spacy.load('en', disable=['parser', 'ner'])\n",
        "# Do lemmatization keeping only Noun, Adj, Verb, Adverb\n",
        "data_lemmatized = lemmatization(data_words, allowed_postags=['NOUN', 'ADJ', 'VERB', 'ADV']) #select noun and verb\n",
        "print(data_lemmatized[:1])"
      ],
      "execution_count": 0,
      "outputs": [
        {
          "output_type": "stream",
          "text": [
            "['church choir sing masse sing joyous song book church']\n"
          ],
          "name": "stdout"
        }
      ]
    },
    {
      "cell_type": "code",
      "metadata": {
        "id": "slCX_fug3IwD",
        "colab_type": "code",
        "outputId": "80c19ef6-38ee-49fa-86dd-9eb7fdcfa6a8",
        "colab": {
          "base_uri": "https://localhost:8080/",
          "height": 54
        }
      },
      "source": [
        "import nltk\n",
        "import itertools\n",
        "nltk.download('punkt')\n",
        "from nltk import FreqDist\n",
        "#from nltk import FreqDis\n",
        "from nltk import word_tokenize \n",
        "from nltk.util import ngrams"
      ],
      "execution_count": 0,
      "outputs": [
        {
          "output_type": "stream",
          "text": [
            "[nltk_data] Downloading package punkt to /root/nltk_data...\n",
            "[nltk_data]   Package punkt is already up-to-date!\n"
          ],
          "name": "stdout"
        }
      ]
    },
    {
      "cell_type": "code",
      "metadata": {
        "id": "-n2SP6m_3ToC",
        "colab_type": "code",
        "colab": {}
      },
      "source": [
        "def create_graph(data):\n",
        "  global  window_counter, af,model, dict_test, tau, t,asz\n",
        "  # Combine all training text into one large string\n",
        "  all_text1 = (data_lemmatized)\n",
        "  edges1 = []\n",
        "  ah = [ascii]\n",
        "  window_counter = 0\n",
        "  lstt = []\n",
        "  see = 0\n",
        "  for line in all_text1:\n",
        "    token = nltk.word_tokenize(line)\n",
        "    bigram = list(ngrams(token, 2))\n",
        "    edges1.append(bigram)\n",
        "    edges = list(itertools.chain(*edges1))\n",
        "\n",
        "  return edges"
      ],
      "execution_count": 0,
      "outputs": []
    },
    {
      "cell_type": "code",
      "metadata": {
        "id": "dG8_XAOi3Ou7",
        "colab_type": "code",
        "outputId": "3ffaa8b1-f0df-450c-d9bb-bcc4bda5fe6e",
        "colab": {
          "base_uri": "https://localhost:8080/",
          "height": 35
        }
      },
      "source": [
        "bigram_edges_graph = create_graph(data)\n",
        "#print(bigram_edges_graph)\n",
        "print(len(bigram_edges_graph))"
      ],
      "execution_count": 0,
      "outputs": [
        {
          "output_type": "stream",
          "text": [
            "71269\n"
          ],
          "name": "stdout"
        }
      ]
    },
    {
      "cell_type": "code",
      "metadata": {
        "id": "pZpmPHoh3d6b",
        "colab_type": "code",
        "colab": {}
      },
      "source": [
        "import time\n",
        "import json\n",
        "import datetime\n",
        "import asyncio\n",
        "import random\n",
        "import sys\n",
        "import csv\n",
        "import requests\n",
        "#@title Capture Twitter streaming (double-click to view) {display-mode: \"form\"}\n",
        "\n",
        "k =  200#@param {type:\"number\"}\n",
        "#tau = 3 #@param {type:\"number\"}\n",
        "#lamb = 1 #@param {type:\"number\"}\n",
        "#tracking = \"bitcoin\" #@param {type:\"string\"}\n",
        "#threshold = 5 #@param {type:\"slider\", min:1, max:20, step:1}\n",
        "#timeout = 5 #@param {type:\"slider\", min:1, max:120, step:1}\n",
        "#imeout = int(timeout)*60000\n",
        "#start = int(round(time.time() * 1000))\n",
        "\n",
        "global L,see, sample_window_stream, global_counter, time_counter, interval_counter,m,kr\n",
        "#L=0\n",
        "#sample_window_stream = []\n",
        "#global_counter = 0\n",
        "#interval_counter = 0\n",
        "#time_counter = (time.time()*1000)+60000\n",
        "\n",
        "\n",
        "# k is the size of the reservoir (number of edges into the reservoir)\n",
        "\n",
        "\n",
        "# tau is the lenght of the window\n",
        "#tau =  tau*60000\n",
        "\n",
        "# lamb is the lenght of strate floato the window\n",
        "#lamb = lamb*60000\n",
        "\n",
        "# rate is the number of strates per window\n",
        "#rate = tau/lamb\n",
        "\n",
        "# M contain steps floato the window, for each strates we have a edges counter\n",
        "#M = [0] * int(rate)\n",
        "\n",
        "# init it's a default parameters to configure somes variables when the reservoir strart\n",
        "init = 0\n",
        "\n",
        "reservoir = []\n",
        "\n",
        "\n",
        "def step_reservoir_sampling(edge):\n",
        "    global  model, dict_test, tau, t,m,kr\n",
        "    #m = 0\n",
        "    #for token in bigram_edges_graph:\n",
        "    if m<=k:\n",
        "      reservoir.append(edge)\n",
        "    if m>k and p<=1: \n",
        "      j = random.randint(0, 1)\n",
        "      if j <= p:\n",
        "        kr = random.randint(1,k)\n",
        "        del reservoir[kr-1]\n",
        "        reservoir.append(edge)\n",
        "      if m>k  and p>1:\n",
        "        del reservoir[kr]\n",
        "        reservoir.append(edge)\n",
        "      #m +=1\n",
        "    \n",
        "    return reservoir\n",
        "    #if j < k:\n",
        "     # if len(reservoir) < k:\n",
        "      #  reservoir.append(edge)\n",
        "       # print(reservoir)\n",
        "      #else:\n",
        "       # del reservoir[j]\n",
        "        #reservoir.append(edge)\n",
        "    #return reservoir\n",
        "\n",
        "#for edge in edges:\n",
        "#  window_reservoir_sampling = step_reservoir_sampling(edge)\n",
        "\n",
        "#print(window_reservoir_sampling)"
      ],
      "execution_count": 0,
      "outputs": []
    },
    {
      "cell_type": "code",
      "metadata": {
        "id": "TbXOmako3rlS",
        "colab_type": "code",
        "colab": {}
      },
      "source": [
        "import string\n",
        "import gensim\n",
        "from gensim.models import phrases, word2vec\n",
        "from sklearn.decomposition import PCA\n",
        "from sklearn.manifold import TSNE\n",
        "import matplotlib\n",
        "import matplotlib.pyplot as plt\n",
        "from mpl_toolkits.mplot3d import Axes3D\n",
        "\n",
        "matplotlib.style.use('ggplot')\n",
        "\n",
        "%matplotlib inline\n",
        "#model = word2vec.Word2Vec(bigram, size=50, min_count=3, iter=20)\n",
        "model = word2vec.Word2Vec(bigram_edges_graph, min_count=1)"
      ],
      "execution_count": 0,
      "outputs": []
    },
    {
      "cell_type": "code",
      "metadata": {
        "id": "NlWLpXKR3tCY",
        "colab_type": "code",
        "outputId": "bdf5f07f-51b6-4344-ec95-8c6368e66723",
        "colab": {
          "base_uri": "https://localhost:8080/",
          "height": 110
        }
      },
      "source": [
        "global  model,m\n",
        "ah = [ascii]\n",
        "window_counter = 0\n",
        "lstt = []\n",
        "see = 0\n",
        "m = 0\n",
        "for edge in bigram_edges_graph:\n",
        "    #se = (edge[0], edge[1]),model.wv.similarity(edge[0], edge[1])\n",
        "    ah.append(model.wv.similarity(edge[0], edge[1]))\n",
        "    ww = abs(model.wv.similarity(edge[0], edge[1]))\n",
        "    see += ww\n",
        "    #print(see)\n",
        "    #see = see + ww\n",
        "    #p = (ww*k/see)\n",
        "    p = (ww*k)/see\n",
        "    #print (p)\n",
        "    #lstt.append(ww)\n",
        "      #print (lstt)\n",
        "      #print(wsss)\n",
        "    window_reservoir_sampling = step_reservoir_sampling(edge)\n",
        "    m +=1\n",
        "    window_counter += 1\n",
        "    \n",
        "    #see = lstt[(window_counter - 1)]\n",
        "print(window_reservoir_sampling)\n",
        "print(len(window_reservoir_sampling))\n",
        "#print(ah)"
      ],
      "execution_count": 0,
      "outputs": [
        {
          "output_type": "stream",
          "text": [
            "/usr/local/lib/python3.6/dist-packages/gensim/matutils.py:737: FutureWarning: Conversion of the second argument of issubdtype from `int` to `np.signedinteger` is deprecated. In future, it will be treated as `np.int64 == np.dtype(int).type`.\n",
            "  if np.issubdtype(vec.dtype, np.int):\n"
          ],
          "name": "stderr"
        },
        {
          "output_type": "stream",
          "text": [
            "[('down', 'snow'), ('distance', 'hill'), ('eat', 'food'), ('play', 'guitar'), ('something', 'distance'), ('emergency', 'worker'), ('hand', 'controller'), ('young', 'girl'), ('duck', 'bread'), ('be', 'leave'), ('snow', 'cover'), ('bridal', 'dress'), ('area', 'walkway'), ('compete', 'field'), ('woman', 'wear'), ('purple', 'black'), ('bench', 'sunlight'), ('just', 'throw'), ('wear', 'black'), ('shirt', 'prevent'), ('football', 'player'), ('bowl', 'red'), ('bowl', 'lane'), ('lane', 'tecate'), ('dark', 'jacket'), ('man', 'dress'), ('man', 'wear'), ('shirt', 'white'), ('wear', 'blue'), ('shirt', 'be'), ('be', 'work'), ('be', 'smile'), ('white', 'dress'), ('impoverished', 'person'), ('shirt', 'shoe'), ('tear', 'brown'), ('be', 'kneel'), ('lucky', 'full'), ('sign', 'silver'), ('shush', 'sign'), ('scarf', 'white'), ('give', 'shush'), ('scarf', 'white'), ('dinner', 'dog'), ('woman', 'black'), ('kid', 'forest'), ('forest', 'stand'), ('man', 'glass'), ('sit', 'restaurant'), ('something', 'be'), ('field', 'yellow'), ('cheerleader', 'blue'), ('field', 'yellow'), ('yellow', 'football'), ('table', 'set'), ('table', 'set'), ('set', 'sidewalk'), ('boy', 'start'), ('start', 'run'), ('group', 'people'), ('boy', 'start'), ('start', 'run'), ('embrace', 'sidewalk'), ('embrace', 'sidewalk'), ('embrace', 'sidewalk'), ('blue', 'leotard'), ('hoop', 'stage'), ('stage', 'balloon'), ('uniform', 'speak'), ('be', 'scatter'), ('couple', 'sit'), ('sit', 'grass'), ('be', 'pet'), ('dog', 'outside'), ('dog', 'outside'), ('be', 'air'), ('orange', 'belt'), ('one', 'be'), ('get', 'kick'), ('male', 'karate'), ('karate', 'class'), ('about', 'get'), ('class', 'one'), ('air', 'blue'), ('about', 'get'), ('karate', 'gear'), ('gear', 'use'), ('man', 'gray'), ('hover', 'beer'), ('pull', 'green'), ('young', 'man'), ('man', 'gray'), ('glass', 'pull'), ('beer', 'bottle'), ('bottle', 'guinness'), ('guinness', 'glass'), ('pull', 'green'), ('skinned', 'boy'), ('dark', 'skinned'), ('play', 'soccer'), ('white', 'duck'), ('duck', 'be'), ('be', 'spread'), ('white', 'duck'), ('little', 'boy'), ('cake', 'be'), ('be', 'blow'), ('boy', 'be'), ('get', 'be'), ('birthday', 'cake'), ('cake', 'be'), ('be', 'blow'), ('little', 'boy'), ('cake', 'be'), ('group', 'girl'), ('jump', 'girl'), ('lay', 'floor'), ('be', 'lay'), ('girl', 'be'), ('be', 'lay'), ('female', 'stand'), ('arm', 'neck'), ('female', 'stand'), ('stand', 'rear'), ('rear', 'back'), ('arm', 'neck'), ('teal', 'apron'), ('prepare', 'meal'), ('teal', 'apron'), ('apron', 'prepare'), ('woman', 'teal'), ('meal', 'restaurant'), ('stand', 'train'), ('train', 'do'), ('man', 'orange'), ('train', 'do'), ('man', 'orange'), ('stand', 'train'), ('man', 'hat'), ('street', 'sit'), ('sit', 'chair'), ('old', 'man'), ('man', 'hat'), ('be', 'play'), ('accordion', 'street'), ('stand', 'home'), ('member', 'stand'), ('gondola', 'operator'), ('sit', 'road'), ('road', 'italy'), ('boy', 'drag'), ('sle', 'snow'), ('drag', 'sle'), ('sle', 'snow'), ('man', 'wear'), ('glass', 'ragged'), ('ragged', 'costume'), ('be', 'play'), ('play', 'jaguar'), ('ragged', 'costume'), ('play', 'jaguar'), ('singing', 'accompaniment'), ('wear', 'glass'), ('be', 'play'), ('jaguar', 'electric'), ('guitar', 'singing'), ('singing', 'accompaniment'), ('accompaniment', 'drummer'), ('female', 'dancer'), ('dancer', 'wear'), ('wear', 'white'), ('white', 'dancing'), ('photographer', 'wear'), ('wear', 'white'), ('white', 'take'), ('take', 'picture'), ('white', 'dancing'), ('photographer', 'wear'), ('white', 'take'), ('wear', 'white'), ('white', 'dancing'), ('dancing', 'photographer'), ('take', 'picture'), ('be', 'observe'), ('something', 'together'), ('observe', 'something'), ('woman', 'be'), ('something', 'together'), ('man', 'black'), ('black', 'leather'), ('jacket', 'book'), ('speak', 'classroom'), ('jacket', 'book'), ('book', 'hand'), ('hand', 'speak'), ('speak', 'classroom'), ('man', 'black'), ('leather', 'jacket'), ('jacket', 'book'), ('book', 'hand'), ('speak', 'classroom')]\n",
            "201\n"
          ],
          "name": "stdout"
        }
      ]
    },
    {
      "cell_type": "code",
      "metadata": {
        "id": "Ef8iq7JG3yX5",
        "colab_type": "code",
        "outputId": "a8219392-823b-4b3b-e10d-bde7c06955f3",
        "colab": {
          "base_uri": "https://localhost:8080/",
          "height": 74
        }
      },
      "source": [
        "# Set the dictionary d\n",
        "\n",
        "d={}\n",
        "n=0\n",
        "for e in window_reservoir_sampling:\n",
        "   a=e[0]\n",
        "   b=e[1]\n",
        "   if a in d.keys(): d[a].add(b)\n",
        "   else: d[a]=set([b])\n",
        "   if b in d.keys(): d[b].add(a)\n",
        "   else: d[b]=set([a])\n",
        "   \n",
        "   \n",
        "#print (\"Dict=\", d, len(d))\n",
        "n=len(d)\n",
        "m=0\n",
        "#Breadth-first search from first point, first component\n",
        "a=list(d.keys())[0]\n",
        "\n",
        "#dc keeps b:i  if i is the length of the shortest path from a to b in the first component\n",
        "dc={}\n",
        "dc[a]=0\n",
        "for b in d[a]: \n",
        "  if b in dc.keys(): pass\n",
        "  else: dc[b]=1\n",
        "\n",
        "#Initialize S ans S1, Start iterating\n",
        "S=d[a]\n",
        "comp=[]\n",
        "S1=set([a])\n",
        "S=S.union(S1)\n",
        "#print(\"S=\",S)\n",
        "while S > S1:\n",
        "    S1=S\n",
        "    for u in S:\n",
        "       S=S.union(d[u])\n",
        "       for v in d[u]:\n",
        "         if v in dc.keys(): dc[v]=min(dc[v],dc[u]+1)\n",
        "         else: dc[v]=dc[u]+1\n",
        "for u in S:\n",
        "     m=m+len(d[u])\n",
        "\n",
        "comp.append((len(S),int(m/2),list(S)))\n",
        "  \n",
        "#print(\"Component\",comp)\n",
        "\n",
        "ST=S\n",
        "  \n",
        "#print(\"ST=\",ST)\n",
        "\n",
        "#The other components: origin must be outside ST, same treatment\n",
        "i=1\n",
        "while i<len(d):\n",
        " m=0\n",
        " while  list(d.keys())[i] not in ST:\n",
        "  a=list(d.keys())[i]\n",
        "  S=d[a]\n",
        "  S1=set([a])\n",
        "  S=S.union(S1)\n",
        "  while S > S1:\n",
        "    S1=S\n",
        "    for u in S:\n",
        "       S=S.union(d[u])\n",
        "  for u in S:\n",
        "     m=m+len(d[u])\n",
        "  comp.append((len(S),int(m/2),list(S)))\n",
        "  ST=ST.union(S)  \n",
        " i+=1     \n",
        "   \n",
        "comp1=sorted(comp,reverse=True)    \n",
        "print(\"Components\",comp1)\n",
        "#print(\"Diameter of largest component  =\",diameter(0))\n",
        "#To compute the diameter of  component i, do diameter(i)\n",
        "#List of edges of each component\n",
        "#Go through comp1 then the list of nodes and with the dictionary generate the edges\n",
        "\n",
        "compedges=[]\n",
        "j0=0\n",
        "while j0<len(comp1):\n",
        "  l1 = comp1[j0][2]\n",
        "#  print(l1, len(l1))\n",
        "  j=0\n",
        "  cp=[]\n",
        "  while j <len(l1):\n",
        "    a=l1[j]\n",
        "#  print(d[l1[j]])\n",
        "    j1=0\n",
        "    while j1< len(d[l1[j]]):\n",
        "  \t  f=(a,list(d[l1[j]])[j1])\n",
        "  \t  cp.append(f)\n",
        "  \t  j1 +=1\n",
        "\n",
        "    j +=1\n",
        "  j0 +=1\n",
        "  compedges.append(cp)\n",
        "print(\"Edges of each component\",compedges)"
      ],
      "execution_count": 0,
      "outputs": [
        {
          "output_type": "stream",
          "text": [
            "Components [(119, 129, ['lay', 'about', 'guinness', 'woman', 'kid', 'do', 'distance', 'singing', 'costume', 'prepare', 'jump', 'leave', 'glass', 'something', 'snow', 'get', 'blue', 'classroom', 'rear', 'accordion', 'cake', 'scatter', 'female', 'black', 'shoe', 'accompaniment', 'dark', 'back', 'down', 'smile', 'cheerleader', 'bottle', 'hat', 'together', 'jacket', 'male', 'cover', 'grass', 'dancer', 'kick', 'jaguar', 'drummer', 'forest', 'run', 'soccer', 'purple', 'observe', 'spread', 'floor', 'skinned', 'dancing', 'controller', 'chair', 'blow', 'girl', 'train', 'sle', 'dress', 'guitar', 'leather', 'hover', 'duck', 'ragged', 'scarf', 'book', 'birthday', 'take', 'electric', 'gray', 'sit', 'people', 'boy', 'prevent', 'gear', 'orange', 'kneel', 'picture', 'meal', 'belt', 'green', 'class', 'karate', 'leotard', 'wear', 'bridal', 'start', 'bread', 'be', 'pull', 'use', 'one', 'restaurant', 'couple', 'street', 'speak', 'work', 'white', 'hand', 'old', 'drag', 'little', 'shirt', 'stand', 'man', 'air', 'road', 'apron', 'beer', 'uniform', 'young', 'member', 'hill', 'pet', 'play', 'home', 'group', 'teal', 'italy', 'photographer']), (5, 4, ['field', 'player', 'compete', 'football', 'yellow']), (4, 3, ['sign', 'silver', 'give', 'shush']), (4, 3, ['sidewalk', 'set', 'table', 'embrace']), (4, 3, ['red', 'tecate', 'bowl', 'lane']), (3, 2, ['dinner', 'outside', 'dog']), (3, 2, ['balloon', 'stage', 'hoop']), (2, 1, ['worker', 'emergency']), (2, 1, ['walkway', 'area']), (2, 1, ['tear', 'brown']), (2, 1, ['person', 'impoverished']), (2, 1, ['operator', 'gondola']), (2, 1, ['just', 'throw']), (2, 1, ['full', 'lucky']), (2, 1, ['food', 'eat']), (2, 1, ['bench', 'sunlight']), (2, 1, ['arm', 'neck'])]\n",
            "Edges of each component [[('lay', 'be'), ('lay', 'floor'), ('about', 'get'), ('guinness', 'glass'), ('guinness', 'bottle'), ('woman', 'black'), ('woman', 'be'), ('woman', 'wear'), ('woman', 'teal'), ('kid', 'forest'), ('do', 'train'), ('distance', 'something'), ('distance', 'hill'), ('singing', 'guitar'), ('singing', 'accompaniment'), ('costume', 'ragged'), ('prepare', 'apron'), ('prepare', 'meal'), ('jump', 'girl'), ('leave', 'be'), ('glass', 'pull'), ('glass', 'guinness'), ('glass', 'man'), ('glass', 'wear'), ('glass', 'ragged'), ('something', 'together'), ('something', 'distance'), ('something', 'be'), ('something', 'observe'), ('snow', 'cover'), ('snow', 'sle'), ('snow', 'down'), ('get', 'kick'), ('get', 'be'), ('get', 'about'), ('blue', 'air'), ('blue', 'cheerleader'), ('blue', 'wear'), ('blue', 'leotard'), ('classroom', 'speak'), ('rear', 'back'), ('rear', 'stand'), ('accordion', 'street'), ('cake', 'be'), ('cake', 'birthday'), ('scatter', 'be'), ('female', 'dancer'), ('female', 'stand'), ('black', 'woman'), ('black', 'purple'), ('black', 'leather'), ('black', 'man'), ('black', 'wear'), ('shoe', 'shirt'), ('accompaniment', 'drummer'), ('accompaniment', 'singing'), ('dark', 'jacket'), ('dark', 'skinned'), ('back', 'rear'), ('down', 'snow'), ('smile', 'be'), ('cheerleader', 'blue'), ('bottle', 'guinness'), ('bottle', 'beer'), ('hat', 'man'), ('together', 'something'), ('jacket', 'book'), ('jacket', 'dark'), ('jacket', 'leather'), ('male', 'karate'), ('cover', 'snow'), ('grass', 'sit'), ('dancer', 'wear'), ('dancer', 'female'), ('kick', 'get'), ('jaguar', 'electric'), ('jaguar', 'play'), ('drummer', 'accompaniment'), ('forest', 'kid'), ('forest', 'stand'), ('run', 'start'), ('soccer', 'play'), ('purple', 'black'), ('observe', 'be'), ('observe', 'something'), ('spread', 'be'), ('floor', 'lay'), ('skinned', 'dark'), ('skinned', 'boy'), ('dancing', 'white'), ('dancing', 'photographer'), ('controller', 'hand'), ('chair', 'sit'), ('blow', 'be'), ('girl', 'group'), ('girl', 'be'), ('girl', 'young'), ('girl', 'jump'), ('train', 'do'), ('train', 'stand'), ('sle', 'snow'), ('sle', 'drag'), ('dress', 'man'), ('dress', 'white'), ('dress', 'bridal'), ('guitar', 'play'), ('guitar', 'singing'), ('leather', 'black'), ('leather', 'jacket'), ('hover', 'beer'), ('duck', 'bread'), ('duck', 'white'), ('duck', 'be'), ('ragged', 'costume'), ('ragged', 'glass'), ('scarf', 'white'), ('book', 'hand'), ('book', 'jacket'), ('birthday', 'cake'), ('take', 'white'), ('take', 'picture'), ('electric', 'jaguar'), ('gray', 'man'), ('sit', 'road'), ('sit', 'restaurant'), ('sit', 'grass'), ('sit', 'couple'), ('sit', 'street'), ('sit', 'chair'), ('people', 'group'), ('boy', 'start'), ('boy', 'be'), ('boy', 'drag'), ('boy', 'little'), ('boy', 'skinned'), ('prevent', 'shirt'), ('gear', 'karate'), ('gear', 'use'), ('orange', 'man'), ('orange', 'belt'), ('kneel', 'be'), ('picture', 'take'), ('meal', 'prepare'), ('meal', 'restaurant'), ('belt', 'orange'), ('green', 'pull'), ('class', 'karate'), ('class', 'one'), ('karate', 'gear'), ('karate', 'class'), ('karate', 'male'), ('leotard', 'blue'), ('wear', 'blue'), ('wear', 'woman'), ('wear', 'glass'), ('wear', 'dancer'), ('wear', 'black'), ('wear', 'white'), ('wear', 'man'), ('wear', 'photographer'), ('bridal', 'dress'), ('start', 'run'), ('start', 'boy'), ('bread', 'duck'), ('be', 'lay'), ('be', 'woman'), ('be', 'girl'), ('be', 'duck'), ('be', 'leave'), ('be', 'something'), ('be', 'get'), ('be', 'cake'), ('be', 'scatter'), ('be', 'boy'), ('be', 'kneel'), ('be', 'smile'), ('be', 'one'), ('be', 'work'), ('be', 'shirt'), ('be', 'observe'), ('be', 'air'), ('be', 'spread'), ('be', 'pet'), ('be', 'play'), ('be', 'blow'), ('pull', 'glass'), ('pull', 'green'), ('use', 'gear'), ('one', 'class'), ('one', 'be'), ('restaurant', 'sit'), ('restaurant', 'meal'), ('couple', 'sit'), ('street', 'accordion'), ('street', 'sit'), ('speak', 'classroom'), ('speak', 'uniform'), ('speak', 'hand'), ('work', 'be'), ('white', 'take'), ('white', 'dress'), ('white', 'dancing'), ('white', 'duck'), ('white', 'shirt'), ('white', 'wear'), ('white', 'scarf'), ('hand', 'book'), ('hand', 'controller'), ('hand', 'speak'), ('old', 'man'), ('drag', 'sle'), ('drag', 'boy'), ('little', 'boy'), ('shirt', 'shoe'), ('shirt', 'white'), ('shirt', 'be'), ('shirt', 'prevent'), ('stand', 'rear'), ('stand', 'train'), ('stand', 'member'), ('stand', 'female'), ('stand', 'forest'), ('stand', 'home'), ('man', 'young'), ('man', 'gray'), ('man', 'dress'), ('man', 'orange'), ('man', 'black'), ('man', 'old'), ('man', 'glass'), ('man', 'wear'), ('man', 'hat'), ('air', 'blue'), ('air', 'be'), ('road', 'italy'), ('road', 'sit'), ('apron', 'teal'), ('apron', 'prepare'), ('beer', 'bottle'), ('beer', 'hover'), ('uniform', 'speak'), ('young', 'man'), ('young', 'girl'), ('member', 'stand'), ('hill', 'distance'), ('pet', 'be'), ('play', 'jaguar'), ('play', 'soccer'), ('play', 'guitar'), ('play', 'be'), ('home', 'stand'), ('group', 'girl'), ('group', 'people'), ('teal', 'woman'), ('teal', 'apron'), ('italy', 'road'), ('photographer', 'dancing'), ('photographer', 'wear')], [('field', 'compete'), ('field', 'yellow'), ('player', 'football'), ('compete', 'field'), ('football', 'player'), ('football', 'yellow'), ('yellow', 'field'), ('yellow', 'football')], [('sign', 'silver'), ('sign', 'shush'), ('silver', 'sign'), ('give', 'shush'), ('shush', 'sign'), ('shush', 'give')], [('sidewalk', 'set'), ('sidewalk', 'embrace'), ('set', 'sidewalk'), ('set', 'table'), ('table', 'set'), ('embrace', 'sidewalk')], [('red', 'bowl'), ('tecate', 'lane'), ('bowl', 'red'), ('bowl', 'lane'), ('lane', 'tecate'), ('lane', 'bowl')], [('dinner', 'dog'), ('outside', 'dog'), ('dog', 'dinner'), ('dog', 'outside')], [('balloon', 'stage'), ('stage', 'hoop'), ('stage', 'balloon'), ('hoop', 'stage')], [('worker', 'emergency'), ('emergency', 'worker')], [('walkway', 'area'), ('area', 'walkway')], [('tear', 'brown'), ('brown', 'tear')], [('person', 'impoverished'), ('impoverished', 'person')], [('operator', 'gondola'), ('gondola', 'operator')], [('just', 'throw'), ('throw', 'just')], [('full', 'lucky'), ('lucky', 'full')], [('food', 'eat'), ('eat', 'food')], [('bench', 'sunlight'), ('sunlight', 'bench')], [('arm', 'neck'), ('neck', 'arm')]]\n"
          ],
          "name": "stdout"
        }
      ]
    },
    {
      "cell_type": "code",
      "metadata": {
        "id": "yUKMDLwU4Vvx",
        "colab_type": "code",
        "outputId": "abd80c42-f7f2-4b77-af77-d17d4fffca52",
        "colab": {
          "base_uri": "https://localhost:8080/",
          "height": 55
        }
      },
      "source": [
        "print(\"Components\",comp1[0])"
      ],
      "execution_count": 0,
      "outputs": [
        {
          "output_type": "stream",
          "text": [
            "Components (119, 129, ['lay', 'about', 'guinness', 'woman', 'kid', 'do', 'distance', 'singing', 'costume', 'prepare', 'jump', 'leave', 'glass', 'something', 'snow', 'get', 'blue', 'classroom', 'rear', 'accordion', 'cake', 'scatter', 'female', 'black', 'shoe', 'accompaniment', 'dark', 'back', 'down', 'smile', 'cheerleader', 'bottle', 'hat', 'together', 'jacket', 'male', 'cover', 'grass', 'dancer', 'kick', 'jaguar', 'drummer', 'forest', 'run', 'soccer', 'purple', 'observe', 'spread', 'floor', 'skinned', 'dancing', 'controller', 'chair', 'blow', 'girl', 'train', 'sle', 'dress', 'guitar', 'leather', 'hover', 'duck', 'ragged', 'scarf', 'book', 'birthday', 'take', 'electric', 'gray', 'sit', 'people', 'boy', 'prevent', 'gear', 'orange', 'kneel', 'picture', 'meal', 'belt', 'green', 'class', 'karate', 'leotard', 'wear', 'bridal', 'start', 'bread', 'be', 'pull', 'use', 'one', 'restaurant', 'couple', 'street', 'speak', 'work', 'white', 'hand', 'old', 'drag', 'little', 'shirt', 'stand', 'man', 'air', 'road', 'apron', 'beer', 'uniform', 'young', 'member', 'hill', 'pet', 'play', 'home', 'group', 'teal', 'italy', 'photographer'])\n"
          ],
          "name": "stdout"
        }
      ]
    },
    {
      "cell_type": "code",
      "metadata": {
        "id": "gcZz3lci4LLZ",
        "colab_type": "code",
        "colab": {}
      },
      "source": [
        ""
      ],
      "execution_count": 0,
      "outputs": []
    }
  ]
}